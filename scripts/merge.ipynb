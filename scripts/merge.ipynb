{
 "cells": [
  {
   "cell_type": "code",
   "execution_count": null,
   "id": "a7067029",
   "metadata": {},
   "outputs": [],
   "source": [
    "# For each chromosome, merge the REGENIE variant associations table with gene/variant annotations"
   ]
  },
  {
   "cell_type": "code",
   "execution_count": 2,
   "id": "072adcf8-4e16-424d-af7f-97e8daa6cdb3",
   "metadata": {
    "tags": []
   },
   "outputs": [],
   "source": [
    "import pandas as pd\n",
    "import os\n",
    "import json"
   ]
  },
  {
   "cell_type": "code",
   "execution_count": 3,
   "id": "105d432b-a0d4-4018-8938-223f717349aa",
   "metadata": {},
   "outputs": [],
   "source": [
    "def merge(chrom):\n",
    "    \n",
    "    if chrom==22:\n",
    "        pheno_header = pd.read_table(f'/home/jupyter/gcs/ukb/regenie/chr22_phenos.txt', nrows=1, header=None)\n",
    "        directory = '/home/jupyter/gcs/ukb/regenie/gwas_chr22prots/step2/'\n",
    "    else:\n",
    "        pheno_header = pd.read_table(f'/home/jupyter/gcs/ukb/regenie/phenos/chr{chrom}_phenos.txt', nrows=1, header=None)\n",
    "        directory = f'/home/jupyter/gcs/ukb/regenie/gwas_allOthers/step2/chr{chrom}prots/'\n",
    "    \n",
    "    # List of the chrom olink proteins\n",
    "    proteins = [i.removesuffix('_rint').upper() for i in pheno_header.iloc[0,2:]]\n",
    "\n",
    "    # List of regenie step2 assoc files for chrom for all chrom olink proteins\n",
    "    file_names = [filename for filename in os.listdir(directory)\n",
    "                    if filename.startswith(f'chr{chrom}_') and filename.endswith('.regenie')]\n",
    "\n",
    "    # Read and append DataFrames for each protein\n",
    "    dfs = []\n",
    "    for file_name in file_names:\n",
    "        file_path = os.path.join(directory, file_name)\n",
    "        df = pd.read_csv(file_path, sep=' ')\n",
    "        dfs.append(df)\n",
    "\n",
    "    # Read in chrom variant annotations table\n",
    "    colNames = ['locus', 'alleles', 'ID', 'cm_position', 'vep', 'vep_proc_id']\n",
    "    annot = pd.read_table(f'/home/jupyter/annot_by_chromosome/second_run/chr{chrom}_olink.txt', names=colNames)\n",
    "\n",
    "    # expand VEP key:value pairs into columns\n",
    "    annot_expd = annot['vep'].apply(json.loads).dropna().apply(pd.Series)\n",
    "    annot_expd = pd.concat([annot[['locus', 'alleles', 'ID', 'cm_position',]], annot_expd], axis=1)\n",
    "\n",
    "    # for each chrom olink protein,\n",
    "    # filter where VEP annotation gene symbol = protein\n",
    "    # merge regenie and annotation table\n",
    "    dfs2 = []\n",
    "    for i in range(len(proteins)-1):\n",
    "        df = annot_expd.loc[annot_expd['symbol']==proteins[i],:]\n",
    "        merge = pd.merge(dfs[i], df, how='inner', on='ID')\n",
    "        dfs2.append(merge)\n",
    "\n",
    "    # Concatenate DataFrames\n",
    "    chr_df = pd.concat(dfs2, ignore_index=True)\n",
    "    \n",
    "    # Reformat 'consequence' annotations to strings instead of single-element lists\n",
    "    chr_df['c2'] = chr_df.loc[:, 'consequence']\n",
    "    chr_df['consequence'] = [x[0] for x in chr_df.loc[:,'c2']]\n",
    "    chr_df.drop('c2', axis=1, inplace=True)\n",
    "    \n",
    "    # Export table\n",
    "    chr_df.to_csv(f'/home/jupyter/gcs/ukb/regenie/gwas_annotated/chr{chrom}_merged.txt', sep='\\t')\n"
   ]
  },
  {
   "cell_type": "code",
   "execution_count": 4,
   "id": "a442f96c-0baa-4da1-9054-7de85e91803e",
   "metadata": {
    "tags": []
   },
   "outputs": [
    {
     "data": {
      "text/plain": [
       "['1',\n",
       " '2',\n",
       " '3',\n",
       " '4',\n",
       " '5',\n",
       " '6',\n",
       " '7',\n",
       " '8',\n",
       " '9',\n",
       " '10',\n",
       " '11',\n",
       " '12',\n",
       " '13',\n",
       " '14',\n",
       " '15',\n",
       " '16',\n",
       " '17',\n",
       " '18',\n",
       " '20',\n",
       " 'X']"
      ]
     },
     "execution_count": 4,
     "metadata": {},
     "output_type": "execute_result"
    }
   ],
   "source": [
    "chroms = [str(i) for i in range(1, 19, 1)]\n",
    "chroms.append('20')\n",
    "chroms.append('X')\n",
    "chroms"
   ]
  },
  {
   "cell_type": "code",
   "execution_count": 5,
   "id": "b366c30e-20e8-44cf-90f9-6f83b12311eb",
   "metadata": {
    "tags": []
   },
   "outputs": [],
   "source": [
    "for i in chroms:\n",
    "    merge(i)"
   ]
  }
 ],
 "metadata": {
  "environment": {
   "kernel": "conda-root-py",
   "name": "workbench-notebooks.m118",
   "type": "gcloud",
   "uri": "us-docker.pkg.dev/deeplearning-platform-release/gcr.io/workbench-notebooks:m118"
  },
  "kernelspec": {
   "display_name": "Python 3 (ipykernel) (Local)",
   "language": "python",
   "name": "conda-root-py"
  },
  "language_info": {
   "codemirror_mode": {
    "name": "ipython",
    "version": 3
   },
   "file_extension": ".py",
   "mimetype": "text/x-python",
   "name": "python",
   "nbconvert_exporter": "python",
   "pygments_lexer": "ipython3",
   "version": "3.10.13"
  }
 },
 "nbformat": 4,
 "nbformat_minor": 5
}
